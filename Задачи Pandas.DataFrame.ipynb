{
 "cells": [
  {
   "attachments": {},
   "cell_type": "markdown",
   "metadata": {},
   "source": [
    "# Создание DataFrame с помощью двумерного списка"
   ]
  },
  {
   "attachments": {},
   "cell_type": "markdown",
   "metadata": {},
   "source": [
    "### Условие"
   ]
  },
  {
   "attachments": {},
   "cell_type": "markdown",
   "metadata": {},
   "source": [
    "Необходимо написать тело функции solve, которая формирует структуру данных Dataframe на основе переданных данных и передает эту структуру в качестве возвращаемого значения функции.\n",
    "\n",
    "На вход функции Solve передается:\n",
    "1. Список, содержащий N вложенных списков размера K\n",
    "2. Список наименований стобцов длины K\n",
    "3. Список индексов длиной N\n",
    "\n",
    "*Необходимо создать Dataframe не используя тип данных dict*\n",
    "\n",
    "*Для вашего удобства уже импортированы библиотеки pandas (как pd) и numpy (как np). Импортировать другие библиотеки запрещено.*\n",
    "\n",
    "*Для решения этой задачи вам необходимо знать [параметры создания DataFrame](https://pandas.pydata.org/pandas-docs/stable/reference/api/pandas.DataFrame.html).*"
   ]
  },
  {
   "attachments": {},
   "cell_type": "markdown",
   "metadata": {},
   "source": [
    "# Создание DataFrame с помощью словаря"
   ]
  },
  {
   "attachments": {},
   "cell_type": "markdown",
   "metadata": {},
   "source": [
    "### Условие"
   ]
  },
  {
   "attachments": {},
   "cell_type": "markdown",
   "metadata": {},
   "source": [
    "Необходимо написать тело функции solve, которая формирует структуру данных Dataframe на основе переданных данных и передает эту структуру в качестве возвращаемого значения функции. Также, в качестве второго возвращаемого значения необходимо вернуть словарь, который был сформирован в ходе выполнения основного задания.\n",
    "\n",
    "На вход функции Solve передается:\n",
    "\n",
    "1. Массив, содержащий K подмассивов размера N\n",
    "2. Список наименований стобцов длины K\n",
    "3. Список индексов длиной N\n",
    "\n",
    "Необходимо создать Dataframe **используя** тип данных dict.\n",
    "\n",
    "*Для вашего удобства уже импортированы библиотеки pandas (как pd) и numpy (как np). Импортировать другие библиотеки запрещено.*\n",
    "\n",
    "*Для решения этой задачи вам необходимо знать [параметры создания DataFrame](https://pandas.pydata.org/pandas-docs/stable/reference/api/pandas.DataFrame.html).*"
   ]
  },
  {
   "attachments": {},
   "cell_type": "markdown",
   "metadata": {},
   "source": [
    "# Добавление столбца DataFrame"
   ]
  },
  {
   "attachments": {},
   "cell_type": "markdown",
   "metadata": {},
   "source": [
    "### Условие"
   ]
  },
  {
   "attachments": {},
   "cell_type": "markdown",
   "metadata": {},
   "source": [
    "Необходимо написать тело функции solve, которая модифицирует исходную структуру данных Dataframe на основе переданных данных и передает итоговую структуру в качестве возвращаемого значения функции.\n",
    "\n",
    "На вход функции Solve передается:\n",
    "\n",
    "1. Исходная структура Dataframe\n",
    "2. Название нового столбца\n",
    "3. Данные для нового столбца\n",
    "\n",
    "Необходимо добавить в исходную структуру данных столбец с именем и значениями, которые были переданы в функцию.\n",
    "\n",
    "*Для вашего удобства уже импортированы библиотеки pandas (как pd) и numpy (как np). Импортировать другие библиотеки запрещено.*\n",
    "\n",
    "*Для решения этой задачи вам необходимо знать, как работает оператор [DataFrame[]](https://pandas.pydata.org/pandas-docs/stable/user_guide/indexing.html)*\n"
   ]
  },
  {
   "attachments": {},
   "cell_type": "markdown",
   "metadata": {},
   "source": [
    "# Удаление столбца и строки DataFrame"
   ]
  },
  {
   "attachments": {},
   "cell_type": "markdown",
   "metadata": {},
   "source": [
    "### Условие"
   ]
  },
  {
   "attachments": {},
   "cell_type": "markdown",
   "metadata": {},
   "source": [
    "Необходимо написать тело функции solve, которая модифицирует исходную структуру данных Dataframe на основе переданных данных и передает эту структуру в качестве возвращаемого значения функции.\n",
    "\n",
    "На вход функции Solve передается:\n",
    "\n",
    "1. Исходная структура DataFrame\n",
    "2. Название столбца из исходного DataFrame\n",
    "3. Индекс из исходного DataFrame\n",
    "\n",
    "Необходимо удалить из исходной структуры данных строку и столбец, идентификаторы которых были переданы в функцию.\n",
    "\n",
    "*Для вашего удобства уже импортированы библиотеки pandas (как pd) и numpy (как np). Импортировать другие библиотеки запрещено.*\n",
    "\n",
    "*Для решения этой задачи вам необходимо знать, как работает метод [DataFrame.drop](https://pandas.pydata.org/pandas-docs/stable/reference/api/pandas.DataFrame.drop.html)*"
   ]
  },
  {
   "attachments": {},
   "cell_type": "markdown",
   "metadata": {},
   "source": [
    "# Множественное удаление строк и столбцов DataFrame"
   ]
  },
  {
   "attachments": {},
   "cell_type": "markdown",
   "metadata": {},
   "source": [
    "### Условие"
   ]
  },
  {
   "attachments": {},
   "cell_type": "markdown",
   "metadata": {},
   "source": [
    "Необходимо написать тело функции solve, которая модифицирует исходную структуру данных Dataframe на основе переданных данных и передает эту структуру в качестве возвращаемого значения функции.\n",
    "\n",
    "На вход функции Solve передается:\n",
    "1. Исходная структура Dataframe\n",
    "\n",
    "Необходимые преобразования:\n",
    "1. Удалить все столбцы кроме первого\n",
    "2. Удалить все строки кроме первой\n",
    "\n",
    "*Для вашего удобства уже импортированы библиотеки pandas (как pd) и numpy (как np). Импортировать другие библиотеки запрещено.*\n",
    "\n",
    "*Для решения этой задачи вам необходимо знать, как работает метод [DataFrame.drop](https://pandas.pydata.org/pandas-docs/stable/reference/api/pandas.DataFrame.drop.html)*"
   ]
  },
  {
   "attachments": {},
   "cell_type": "markdown",
   "metadata": {},
   "source": [
    "# Импортирования DataFrame. Импортируемые файлы"
   ]
  },
  {
   "attachments": {},
   "cell_type": "markdown",
   "metadata": {},
   "source": [
    "### Условие"
   ]
  },
  {
   "attachments": {},
   "cell_type": "markdown",
   "metadata": {},
   "source": [
    "Выберите из предложенных вариантов те типы файлов, которые может считать pandas.\n",
    "\n",
    "*Для решения этой задачи вам необходимо знать [методы импортирования данных.](https://pandas.pydata.org/pandas-docs/stable/user_guide/io.html)*"
   ]
  },
  {
   "attachments": {},
   "cell_type": "markdown",
   "metadata": {},
   "source": [
    "### Решение "
   ]
  },
  {
   "attachments": {},
   "cell_type": "markdown",
   "metadata": {},
   "source": [
    ".json\n",
    "\n",
    ".csv\n",
    "\n",
    ".ipynb\n",
    "\n",
    ".xml\n",
    "\n",
    ".sql"
   ]
  },
  {
   "attachments": {},
   "cell_type": "markdown",
   "metadata": {},
   "source": [
    "# Импортирование DataFrame. Методы импортирования"
   ]
  },
  {
   "attachments": {},
   "cell_type": "markdown",
   "metadata": {},
   "source": [
    "### Условие"
   ]
  },
  {
   "attachments": {},
   "cell_type": "markdown",
   "metadata": {},
   "source": [
    "Отметьте, у какого из этих методов экспортирования **НЕТ** аналогичного метода для импортирования.\n",
    "\n",
    "*Для решения этой задачи вам необходимо знать [методы импортирования данных.](https://pandas.pydata.org/pandas-docs/stable/user_guide/io.html)*"
   ]
  },
  {
   "attachments": {},
   "cell_type": "markdown",
   "metadata": {},
   "source": [
    "to_html\n",
    "\n",
    "to_xml\n",
    "\n",
    "to_excel\n",
    "\n",
    "to_hdf\n",
    "\n",
    "to_latex"
   ]
  },
  {
   "attachments": {},
   "cell_type": "markdown",
   "metadata": {},
   "source": [
    "# Срезы DataFrame"
   ]
  },
  {
   "attachments": {},
   "cell_type": "markdown",
   "metadata": {},
   "source": [
    "### Условие"
   ]
  },
  {
   "attachments": {},
   "cell_type": "markdown",
   "metadata": {},
   "source": [
    "Необходимо написать тело функции solve, которая получает исходную структуру данных Dataframe, достает из нее необходимые данные и возвращает полученные значения в качестве возвращаемого значения функции.\n",
    "\n",
    "На вход функции solve передается:\n",
    "1. Исходная структура Dataframe.\n",
    "2. Левая граница позиций\n",
    "3. Правая граница позиций\n",
    "\n",
    "Необходимо достать из исходной структуры DataFrame все строки, у которых позиция лежит в интервале, который был передан в функцию, посредством левой и правой границы (обе границы включительно). \n",
    "\n",
    "*Нумерация с 0. Гарантируется что переданные границы не выходят за границы, переданного DataFrame.*\n",
    "\n",
    "*Для вашего удобства уже импортированы библиотеки pandas (как pd) и numpy (как np). Импортировать другие библиотеки запрещено.*\n",
    "\n",
    "*Для решения этой задачи вам необходимо знать, как работает метод [DataFrame.iloc](https://pandas.pydata.org/pandas-docs/stable/reference/api/pandas.DataFrame.iloc.html) или оператор [DataFrame[]](https://pandas.pydata.org/pandas-docs/stable/user_guide/indexing.html)*\n"
   ]
  },
  {
   "attachments": {},
   "cell_type": "markdown",
   "metadata": {},
   "source": [
    "# Метод DataFrame.loc"
   ]
  },
  {
   "attachments": {},
   "cell_type": "markdown",
   "metadata": {},
   "source": [
    "### Условие"
   ]
  },
  {
   "attachments": {},
   "cell_type": "markdown",
   "metadata": {},
   "source": [
    "Необходимо написать тело функции solve, которая получает исходную структуру данных Dataframe, достает из нее необходимые данные и передает эти данные в качестве возвращаемого значения функции.\n",
    "\n",
    "На вход функции solve передается:\n",
    "\n",
    "1. Исходная структура Dataframe.\n",
    "2. Список строк - индексы.\n",
    "3. Список строк - наименования столбцов.\n",
    "\n",
    "Необходимые преобразования:\n",
    "1. Выбрать из получившейся структуры только те строки, у которых индекс входит в переданный список строк с индексами.\n",
    "2. Выбрать из получившейся структуры только те столбцы, у которых наименование входит в переданный список с наименованиями столбцов.\n",
    "\n",
    "*Гарантируется, что переданные индексы/наименования столбцов присутствуют в исходной структуре DataFrame.*\n",
    "\n",
    "*Для вашего удобства уже импортированы библиотеки pandas (как pd) и numpy (как np). Импортировать другие библиотеки запрещено.*\n",
    "\n",
    "*Для решения этой задачи вам необходимо знать, как работает метод [DataFrame.loc](https://pandas.pydata.org/pandas-docs/stable/reference/api/pandas.DataFrame.loc.html)*\n",
    "\n"
   ]
  },
  {
   "attachments": {},
   "cell_type": "markdown",
   "metadata": {},
   "source": [
    "# Метод DataFrame.iloc"
   ]
  },
  {
   "attachments": {},
   "cell_type": "markdown",
   "metadata": {},
   "source": [
    "### Условие"
   ]
  },
  {
   "attachments": {},
   "cell_type": "markdown",
   "metadata": {},
   "source": [
    "Необходимо написать тело функции solve, которая получает на вход исходную структуру данных Dataframe, достает из нее необходимые данные и передает эти данные в качестве возвращаемого значения функции.\n",
    "\n",
    "Необходимые преобразования:\n",
    "1. Выбрать из исходной структуры только нечетные строки.\n",
    "2. Выбрать из получившейся структуры только четные столбцы.\n",
    "\n",
    "*Примечание: 0-ая строка/столбец считается нечетной.*\n",
    "\n",
    "*Для вашего удобства уже импортированы библиотеки pandas (как pd) и numpy (как np). Импортировать другие библиотеки запрещено.*\n",
    "\n",
    "*Для решения этой задачи вам необходимо знать, как работает метод [DataFrame.iloc](https://pandas.pydata.org/pandas-docs/stable/reference/api/pandas.DataFrame.iloc.html)*\n"
   ]
  },
  {
   "attachments": {},
   "cell_type": "markdown",
   "metadata": {},
   "source": [
    "# Фильтрация по столбцу DataFrame"
   ]
  },
  {
   "attachments": {},
   "cell_type": "markdown",
   "metadata": {},
   "source": [
    "### Условие"
   ]
  },
  {
   "attachments": {},
   "cell_type": "markdown",
   "metadata": {},
   "source": [
    "Необходимо написать тело функции solve, которая модифицирует исходную структуру данных Dataframe на основе переданных данных и передает полученную структуру в качестве возвращаемого значения функции.\n",
    "\n",
    "На вход функции solve передается:\n",
    "1. Исходный DataFrame\n",
    "2. Наименование столбца, который должен быть отфильтрован\n",
    "3. Значение для фильтрации\n",
    "\n",
    "Необходимо отфильтровать исходную структуру данных так, чтобы в итоговой структуре присутствовали только те строки, у которых значение столбца, имя которого было передано в функцию, больше либо равно значению для фильтрации.\n",
    "\n",
    "*Для вашего удобства уже импортированы библиотеки pandas (как pd) и numpy (как np). Импортировать другие библиотеки запрещено.*\n",
    "\n",
    "*Для решения этой задачи вам необходимо знать, как работает оператор [DataFrame[]](https://pandas.pydata.org/pandas-docs/stable/user_guide/indexing.html)*\n"
   ]
  },
  {
   "attachments": {},
   "cell_type": "markdown",
   "metadata": {},
   "source": [
    "# Метод isin, фильтрация нескольких столбцов DataFrame"
   ]
  },
  {
   "attachments": {},
   "cell_type": "markdown",
   "metadata": {},
   "source": [
    "### Условие"
   ]
  },
  {
   "attachments": {},
   "cell_type": "markdown",
   "metadata": {},
   "source": [
    "Необходимо написать тело функции solve, которая модифицирует исходную структуру данных Dataframe на основе переданных данных и передает полученную структуру в качестве возвращаемого значения функции.\n",
    "\n",
    "На вход функции solve передается:\n",
    "1. Исходный DataFrame\n",
    "2. Список недопустимых индексов\n",
    "3. Словарь, с соответствием: название столбца - предельное значение\n",
    "\n",
    "Необходимые преобразования:\n",
    "1. Отфильтровать исходный Dataframe так, чтобы в полученный DataFrame не входили строки с индексами из списка недопустимых индексов.\n",
    "2. Отфильтровать полученный на предыдущем шаге Dataframe так, чтобы в итоговый DataFrame входили только строки, для которых каждый столбец отфильтрован так, что в нем нет значений больше предельного.\n",
    "\n",
    "*Гарантируется, что в словаре с соответствием названия столбца и предельного значения присутствуют только те наименования столбцов, которые есть в исходной структуре DataFrame.*\n",
    "\n",
    "*Для вашего удобства уже импортированы библиотеки pandas (как pd) и numpy (как np). Импортировать другие библиотеки запрещено.*\n",
    "\n",
    "*Для решения этой задачи вам необходимо знать, как работают метод [Index.isin](https://pandas.pydata.org/pandas-docs/stable/reference/api/pandas.Index.isin.html) и оператор [DataFrame[]](https://pandas.pydata.org/pandas-docs/stable/user_guide/indexing.html)*\n"
   ]
  },
  {
   "attachments": {},
   "cell_type": "markdown",
   "metadata": {},
   "source": [
    "# Строковые методы Pandas"
   ]
  },
  {
   "attachments": {},
   "cell_type": "markdown",
   "metadata": {},
   "source": [
    "### Условие"
   ]
  },
  {
   "attachments": {},
   "cell_type": "markdown",
   "metadata": {},
   "source": [
    "Сопоставьте строковый метод и какое воздействие он оказывает на Series/DataFrame\n",
    "\n",
    "*Для решения этой задачи вам необходимо знать, как работают [строковые методы Pandas](https://pandas.pydata.org/pandas-docs/stable/user_guide/text.html)*"
   ]
  },
  {
   "attachments": {},
   "cell_type": "markdown",
   "metadata": {},
   "source": [
    "### Решение"
   ]
  },
  {
   "attachments": {},
   "cell_type": "markdown",
   "metadata": {},
   "source": [
    ".str.lower()\n",
    "\n",
    ".str.len()\n",
    "\n",
    ".str.find()\n",
    "\n",
    ".str.get()\n",
    "\n",
    ".str.isdigit()\n",
    "\n",
    "Приведение к нижнему регистру\n",
    "\n",
    "Вычисление длины строки\n",
    "\n",
    "Поиск индекса вхождения подстроки в строку\n",
    "\n",
    "Получение значения по индексу\n",
    "\n",
    "Проверка на то является ли строка числом"
   ]
  },
  {
   "attachments": {},
   "cell_type": "markdown",
   "metadata": {},
   "source": [
    "# Сортировка DataFrame"
   ]
  },
  {
   "attachments": {},
   "cell_type": "markdown",
   "metadata": {},
   "source": [
    "### Условие"
   ]
  },
  {
   "attachments": {},
   "cell_type": "markdown",
   "metadata": {},
   "source": [
    "**Задание повышенной сложности.**\n",
    "\n",
    "Необходимо написать тело функции solve, которая сортирует исходную структуру данных Dataframe на основе переданных данных и передает полученную структуру в качестве возвращаемого значения функции.\n",
    "\n",
    "На вход функции solve передается исходный DataFrame и наименования столбца, по которому проводится сортировка.\n",
    "\n",
    "Условия сортировки:\n",
    "1. Все строки должны быть отсортированы по выбранному столбцу в порядке возрастания\n",
    "2. Если тип данных столбца - строка, то сортировка должна быть нерегистрозависимой (здесь нельзя менять DataFrame, воспользуйтесь параметром key)\n",
    "3. Все значения NaN выбранного столбца должны быть в конце\n",
    "4. Столбцы (имена) также должны быть отсортированы по размеру строки в порядке возрастания (аналогично, воспользуйтесь параметром key)\n",
    "\n",
    "Примечание: у строковых столбцов явно прописан dtype == \"string\"\n",
    "\n",
    "*Для вашего удобства уже импортированы библиотеки pandas (как pd) и numpy (как np). Импортировать другие библиотеки запрещено.*\n",
    "\n",
    "*Для решения этой задачи вам необходимо знать, как работают методы [DataFrame.sort_values](https://pandas.pydata.org/pandas-docs/stable/reference/api/pandas.DataFrame.sort_values.html), [DataFrame.sort_index](https://pandas.pydata.org/pandas-docs/stable/reference/api/pandas.DataFrame.sort_index.html), а также [строковые методы Pandas](https://pandas.pydata.org/pandas-docs/stable/user_guide/text.html)*"
   ]
  },
  {
   "attachments": {},
   "cell_type": "markdown",
   "metadata": {},
   "source": [
    "# Методы DataFrame.map, DataFrame.applymap"
   ]
  },
  {
   "attachments": {},
   "cell_type": "markdown",
   "metadata": {},
   "source": [
    "### Условие"
   ]
  },
  {
   "attachments": {},
   "cell_type": "markdown",
   "metadata": {},
   "source": [
    "Необходимо написать тело функции solve, которая модифицирует исходную структуру данных Dataframe на основе переданных данных и передает полученную структуру в качестве возвращаемого значения функции.\n",
    "\n",
    "На вход функции solve передается исходный DataFrame.\n",
    "\n",
    "Необходимые преобразования:\n",
    "1. Каждый элемент в исходном DataFrame умножить на 2.\n",
    "2. Для каждого столбца посчитать размах после применения первого шага преобразований.\n",
    "\n",
    "Итоговым ответом должна быть структура данных Series, где индексы - наименования столбцов исходной структуры DataFrame, а значения - посчитанный размах для каждого столбца.\n",
    "\n",
    "*Гарантируется, что все столбцы исходной DataFrame имееют числовой тип.*\n",
    "\n",
    "*Для вашего удобства уже импортированы библиотеки pandas (как pd) и numpy (как np). Импортировать другие библиотеки запрещено.*\n",
    "\n",
    "*Для решения этой задачи вам необходимо знать, как работают методы [DataFrame.apply](https://pandas.pydata.org/pandas-docs/stable/reference/api/pandas.DataFrame.apply.html) и [DataFrame.applymap](https://pandas.pydata.org/pandas-docs/stable/reference/api/pandas.DataFrame.applymap.html)*"
   ]
  },
  {
   "attachments": {},
   "cell_type": "markdown",
   "metadata": {},
   "source": [
    "# Методы для избавления от NaN в DataFrame"
   ]
  },
  {
   "attachments": {},
   "cell_type": "markdown",
   "metadata": {},
   "source": [
    "### Условие"
   ]
  },
  {
   "attachments": {},
   "cell_type": "markdown",
   "metadata": {},
   "source": [
    "Соедините метод для борьбы с отсутствующими данными в DataFrame и описание его работы.\n",
    "\n",
    "*Для решения этой задачи вам необходимо знать, как работают методы [DataFrame.dropna](https://pandas.pydata.org/pandas-docs/stable/reference/api/pandas.DataFrame.dropna.html) и [DataFrame.fillna](https://pandas.pydata.org/pandas-docs/stable/reference/api/pandas.DataFrame.fillna.html)*"
   ]
  },
  {
   "attachments": {},
   "cell_type": "markdown",
   "metadata": {},
   "source": [
    "fillna()\n",
    "\n",
    "dropna(axis=1)\n",
    "\n",
    "dropna(axis=0)\n",
    "\n",
    "Замена пропусков на конкретное значение\n",
    "\n",
    "Удаление всех столбцов, в которых имеются пропуски\n",
    "\n",
    "Удаление всех строк, в которых имеются пропуски\n"
   ]
  },
  {
   "attachments": {},
   "cell_type": "markdown",
   "metadata": {},
   "source": [
    "# Метод DataFrame.dropna с указанием thresh"
   ]
  },
  {
   "attachments": {},
   "cell_type": "markdown",
   "metadata": {},
   "source": [
    "### Условие"
   ]
  },
  {
   "attachments": {},
   "cell_type": "markdown",
   "metadata": {},
   "source": [
    "Необходимо написать тело функции solve, которая принимает на вход исходную структуру DataFrame, удаляет в структуре все столбцы, в которых встречается больше 3 значений NaN и передает полученную структуру в качестве возвращаемого значения функции.\n",
    "\n",
    "*Для вашего удобства уже импортированы библиотеки pandas (как pd) и numpy (как np). Импортировать другие библиотеки запрещено.*\n",
    "\n",
    "*Для решения этой задачи вам необходимо знать, как работает метод [DataFrame.dropna](https://pandas.pydata.org/pandas-docs/stable/reference/api/pandas.DataFrame.dropna.html).*"
   ]
  },
  {
   "attachments": {},
   "cell_type": "markdown",
   "metadata": {},
   "source": [
    "# Комбинирование методов избавления от NaN в DataFrame"
   ]
  },
  {
   "attachments": {},
   "cell_type": "markdown",
   "metadata": {},
   "source": [
    "### Условие"
   ]
  },
  {
   "attachments": {},
   "cell_type": "markdown",
   "metadata": {},
   "source": [
    "Необходимо написать тело функции solve, которая модифицирует исходную структуру данных Dataframe на основе переданных данных и передает эту структуру в качестве возвращаемого значения функции.\n",
    "\n",
    "Необходимые преобразования:\n",
    "1. Удалить столбцы, в которых встречается больше 3 значений NaN.\n",
    "2. Удалить строки, в которых встречается больше 2 значений NaN, после выполнения первого шага.\n",
    "3. Заполните оставшиеся значения NaN средним значением по столбцу.\n",
    "4. Удалите дублирующиеся строки.\n",
    "\n",
    "*Для вашего удобства уже импортированы библиотеки pandas (как pd) и numpy (как np). Импортировать другие библиотеки запрещено.* \n",
    "\n",
    "*Для решения этой задачи вам необходимо знать, как работают методы [DataFrame.dropna](https://pandas.pydata.org/pandas-docs/stable/reference/api/pandas.DataFrame.dropna.html), [DataFrame.fillna](https://pandas.pydata.org/pandas-docs/stable/reference/api/pandas.DataFrame.fillna.html) и [DataFrame.drop_duplicates](https://pandas.pydata.org/pandas-docs/stable/reference/api/pandas.DataFrame.drop_duplicates.html)*\n"
   ]
  },
  {
   "attachments": {},
   "cell_type": "markdown",
   "metadata": {},
   "source": [
    "# Метод DataFrame.concat"
   ]
  },
  {
   "attachments": {},
   "cell_type": "markdown",
   "metadata": {},
   "source": [
    "### Условие"
   ]
  },
  {
   "attachments": {},
   "cell_type": "markdown",
   "metadata": {},
   "source": [
    "Необходимо написать тело функции solve, которая модифицирует исходную структуру данных Dataframe на основе переданных данных и передает эту структуру в качестве возвращаемого значения функции, а также функцию split, которая принимает на входу структуру данных DataFrame, разделяет ее и передает массив DataFrame'ов в качестве возвращаемого значения функции.\n",
    "\n",
    "Функция split должна разделить исходный DataFrame на 3 равные части по строкам (гарантируется что количество строк в DataFrame'e делится на 3). Функция split также будет проверяться.\n",
    "\n",
    "Функция solve должна сначала вызвать функцию split, а затем, с полученными данными соединить таблицу в одну, так, чтобы итоговая структура имела следующий порядок частей исходной структуры: 2, 3, 1.\n",
    "\n",
    "*Для вашего удобства уже импортированы библиотеки pandas (как pd) и numpy (как np). Импортировать другие библиотеки запрещено*\n",
    "\n",
    "*Для решения этой задачи вам необходимо знать, как работают методы [DataFrame.iloc](https://pandas.pydata.org/pandas-docs/stable/reference/api/pandas.DataFrame.iloc.html), [Pandas.concat](https://pandas.pydata.org/pandas-docs/stable/reference/api/pandas.concat.html), а также свойство [DataFrame.shape](https://pandas.pydata.org/pandas-docs/stable/reference/api/pandas.DataFrame.shape.html)*\n"
   ]
  },
  {
   "attachments": {},
   "cell_type": "markdown",
   "metadata": {},
   "source": [
    "# Метод DataFrame.merge"
   ]
  },
  {
   "attachments": {},
   "cell_type": "markdown",
   "metadata": {},
   "source": [
    "### Условие"
   ]
  },
  {
   "attachments": {},
   "cell_type": "markdown",
   "metadata": {},
   "source": [
    "Необходимо написать тело функции solve, которая объединяет две структуры данных DataFrame и передает, полученную структуру в качестве возвращаемого значения.\n",
    "\n",
    "Необходимо выполнить слияние двух структур по индексам. Гарантируется, что все индексы первой структуры (left) имеются в индексах второй (right). Однако, у второй структуры могут быть лишние индексы, которые необходимо исключить при слиянии.\n",
    "\n",
    "На выходе должна получиться структура, в которой содержатся все индексы первой исходной структуры и все столбцы из обоих исходных структур вместе.\n",
    "\n",
    "*Для вашего удобства уже импортированы библиотеки pandas (как pd) и numpy (как np). Импортировать другие библиотеки запрещено.*\n",
    "\n",
    "*Для решения этой задачи вам необходимо знать, как работают метод [Pandas.merge.](https://pandas.pydata.org/pandas-docs/stable/reference/api/pandas.DataFrame.merge.html)*\n"
   ]
  },
  {
   "attachments": {},
   "cell_type": "markdown",
   "metadata": {},
   "source": [
    "# Функция reduce"
   ]
  },
  {
   "attachments": {},
   "cell_type": "markdown",
   "metadata": {},
   "source": [
    "### Условие"
   ]
  },
  {
   "attachments": {},
   "cell_type": "markdown",
   "metadata": {},
   "source": [
    "Необходимо написать тело функции solve(), которая принимает на вход список чисел и вычисляет минимальный элемент в списке с помощью функции reduce().\n",
    "\n",
    "Постарайтесь решить именно с помощью функции reduce, так как с помощью нее вы упростите себе решение следующей задачи.\n",
    "\n",
    "*Функция reduce уже импортирована из модуля functools. Импортировать другие библиотеки запрещено.*\n",
    "\n",
    "*Для решения этой задачи вам необходимо знать, как работает функция [reduce](https://docs-python.ru/standart-library/modul-functools-python/funktsija-reduce-modulja-functools/).*\n"
   ]
  },
  {
   "attachments": {},
   "cell_type": "markdown",
   "metadata": {},
   "source": [
    "# Сводная таблица DataFrame"
   ]
  },
  {
   "attachments": {},
   "cell_type": "markdown",
   "metadata": {},
   "source": [
    "### Условие"
   ]
  },
  {
   "attachments": {},
   "cell_type": "markdown",
   "metadata": {},
   "source": [
    "Необходимо написать тело функции solve, которая формирует сводную таблицу на основе переданной структуры данных Dataframe и передает эту таблицу в качестве возвращаемого значения функции.\n",
    "\n",
    "На вход функции solve передается исходный DataFrame с индексами по умолчанию и столбцами A, B, C, D, E.\n",
    "\n",
    "Правила по которым должна быть построена сводная таблица:\n",
    "1. Столбец B - индекс первого порядка, С - второго.\n",
    "2. Исключен столбец E.\n",
    "3. В столбец A записан результат произведения повторяющихся значений, которые появились после переноса B и C в индексы.\n",
    "4. В столбец D записан результат сложения по модулю 5 повторяющихся значений, которые появились после переноса B и C в индексы.\n",
    "\n",
    "*Для вашего удобства уже импортированы библиотеки pandas (как pd) и numpy (как np). Импортировать другие библиотеки запрещено.*\n",
    "\n",
    "*Для решения этой задачи вам необходимо знать, как работает метод [DataFrame.pivot_table](https://pandas.pydata.org/pandas-docs/stable/reference/api/pandas.DataFrame.pivot_table.html).*"
   ]
  },
  {
   "attachments": {},
   "cell_type": "markdown",
   "metadata": {},
   "source": [
    "# Методы агрегации Pandas"
   ]
  },
  {
   "attachments": {},
   "cell_type": "markdown",
   "metadata": {},
   "source": [
    "### Условие"
   ]
  },
  {
   "attachments": {},
   "cell_type": "markdown",
   "metadata": {},
   "source": [
    "Установите соответствие между действием и, соответствующим ему, методом агрегации.\n",
    "\n",
    "Для решения этой задачи вам необходимо знать, как работают [агрегирующие методы](https://pandas.pydata.org/pandas-docs/stable/user_guide/groupby.html#built-in-aggregation-methods)."
   ]
  },
  {
   "attachments": {},
   "cell_type": "markdown",
   "metadata": {},
   "source": [
    "### Решение"
   ]
  },
  {
   "attachments": {},
   "cell_type": "markdown",
   "metadata": {},
   "source": [
    "Cуммирование\n",
    "\n",
    "Среднее значение\n",
    "\n",
    "Нахождение медианы\n",
    "\n",
    "Нахождение дисперсии\n",
    "\n",
    "Произведение\n",
    "\n",
    "sum\n",
    "\n",
    "mean\n",
    "\n",
    "median\n",
    "\n",
    "var\n",
    "\n",
    "prod"
   ]
  },
  {
   "attachments": {},
   "cell_type": "markdown",
   "metadata": {},
   "source": [
    "# Метод DataFrame.groupby"
   ]
  },
  {
   "attachments": {},
   "cell_type": "markdown",
   "metadata": {},
   "source": [
    "### Условие"
   ]
  },
  {
   "attachments": {
    "image-2.png": {
     "image/png": "[encoded data removed]"
    },
    "image.png": {
     "image/png": "[encoded data removed]"
    }
   },
   "cell_type": "markdown",
   "metadata": {},
   "source": [
    "Исходная структура данных DataFrame содержала следующие данные:\n",
    "\n",
    "![image.png](attachment:image.png)\n",
    "\n",
    "Исходную структуру сгруппировали и аггрегировали данные. В итоге получилась следующая структура данных:\n",
    "\n",
    "![image.png](attachment:image-2.png)\n",
    "\n",
    "Выберите строчку кода, с помощью которой произвели данное преобразование.\n",
    "\n",
    "Для решения этой задачи вам необходимо знать, как работают [агрегирующие методы](https://pandas.pydata.org/pandas-docs/stable/user_guide/groupby.html#built-in-aggregation-methods) и метод [DataFrame.groupby](https://pandas.pydata.org/pandas-docs/stable/reference/api/pandas.DataFrame.groupby.html)\n"
   ]
  },
  {
   "attachments": {},
   "cell_type": "markdown",
   "metadata": {},
   "source": [
    "*df.groupby([\"category\"]).agg( {\"kcal\": [\"sum\", \"var\"], \"price\": [\"median\", \"prod\"]})*\n",
    "\n",
    "*df.groupby([\"category\"]).agg( {\"price\": [\"sum\", \"var\"], \"kcal\": [\"median\", \"prod\"]})*\n",
    "\n",
    "*df.groupby([\"product\"]).agg( {\"kcal\": [\"sum\", \"mean\"], \"price\": [\"var\", \"prod\"]})*\n",
    "\n",
    "*df.agg( {\"kcal\": [\"sum\", \"var\"], \"price\": [\"median\", \"prod\"]}).groupby([\"category\"])*"
   ]
  },
  {
   "attachments": {},
   "cell_type": "markdown",
   "metadata": {},
   "source": [
    "# Математические операции над DataFrame"
   ]
  },
  {
   "attachments": {},
   "cell_type": "markdown",
   "metadata": {},
   "source": [
    "### Условие"
   ]
  },
  {
   "attachments": {},
   "cell_type": "markdown",
   "metadata": {},
   "source": [
    "Необходимо написать тело функции solve, которая модифицирует исходную структуру данных Dataframe на основе переданных данных и передает эту структуру в качестве возвращаемого значения функции.\n",
    "\n",
    "На вход функции solve передается исходный DataFrame с индексами по умолчанию и столбцами A, B, C, D, E, а также структура данных Series, которая будет задействована в преобразованиях.\n",
    "\n",
    "Необходимые преобразования:\n",
    "\n",
    "1. Вычесть из каждого столбца исходного DataFrame значения структуры данных Series, переданной в функцию. Гарантируется, что переданный Series - это измененный столбец исходной DataFrame, из чего следует, что размеры и индексы совпадают.\n",
    "2. Прибавить ко всем значениям столбца 'B' 3-ку, из всех значений столбца 'C' вычесть 2-ку\n",
    "3. Возвести все значения, полученного Dataframe во 2-ю степень.\n",
    "\n",
    "*Для вашего удобства уже импортированы библиотеки pandas (как pd) и numpy (как np). Импортировать другие библиотеки запрещено.*\n",
    "\n",
    "*Для решения этой задачи вам необходимо знать, как работают математические методы [DataFrame.add](https://pandas.pydata.org/pandas-docs/stable/reference/api/pandas.DataFrame.add.html#), [DataFrame.sub](https://pandas.pydata.org/pandas-docs/stable/reference/api/pandas.DataFrame.sub.html), [DataFrame.pow](https://pandas.pydata.org/pandas-docs/stable/reference/api/pandas.DataFrame.pow.html).*\n"
   ]
  },
  {
   "attachments": {},
   "cell_type": "markdown",
   "metadata": {},
   "source": [
    "# Методы категориального типа данных"
   ]
  },
  {
   "attachments": {},
   "cell_type": "markdown",
   "metadata": {},
   "source": [
    "### Условие"
   ]
  },
  {
   "attachments": {},
   "cell_type": "markdown",
   "metadata": {},
   "source": [
    "Установите соответствие между методом категориального типа данных и действием, которое ему соответствуют.\n",
    "\n",
    "Для решения этой задачи вам необходимо знать, как работают методы [Series.cat.add_categories](https://pandas.pydata.org/pandas-docs/stable/reference/api/pandas.Series.cat.add_categories.html), [Series.cat.as_ordered](https://pandas.pydata.org/pandas-docs/stable/reference/api/pandas.Series.cat.as_ordered.html), [Series.cat.rename_categories](https://pandas.pydata.org/pandas-docs/stable/reference/api/pandas.Series.cat.rename_categories.html), [Series.cat.remove_unused_categories](https://pandas.pydata.org/pandas-docs/stable/reference/api/pandas.Series.cat.remove_unused_categories.html)."
   ]
  },
  {
   "attachments": {},
   "cell_type": "markdown",
   "metadata": {},
   "source": [
    "### Решение"
   ]
  },
  {
   "attachments": {},
   "cell_type": "markdown",
   "metadata": {},
   "source": [
    ".cat.add_categories\n",
    "\n",
    ".cat.as_ordered\n",
    "\n",
    ".cat.rename_categories\n",
    "\n",
    ".cat.remove_unused_categories\n",
    "\n",
    "Добавить категории\n",
    "\n",
    "Сделать категориальный тип данных упорядоченным\n",
    "\n",
    "Переименовать категории\n",
    "\n",
    "Удалить неиспользуемые категории"
   ]
  },
  {
   "attachments": {},
   "cell_type": "markdown",
   "metadata": {},
   "source": [
    "# Использование категориального типа данных"
   ]
  },
  {
   "attachments": {},
   "cell_type": "markdown",
   "metadata": {},
   "source": [
    "### Условие"
   ]
  },
  {
   "attachments": {},
   "cell_type": "markdown",
   "metadata": {},
   "source": [
    "Необходимо написать тело функции solve, которая модифицирует исходную структуру данных Dataframe на основе переданных данных и передает эту структуру в качестве возвращаемого значения функции.\n",
    "\n",
    "На вход функции solve передается исходный DataFrame, у которого есть столбец \"country\" со странами из набора {\"France\", \"England\", \"Russia\"}.\n",
    "\n",
    "Необходимые преобразования:\n",
    "\n",
    "1. Преобразовать столбец \"country\" так, чтобы его тип стал категориальным.\n",
    "2. Перевести наименования стран на русский, используя переименование категорий.\n",
    "\n",
    "*Переводы: France - Франция, Russia - Россия, England - Англия* \n",
    "\n",
    "*Для вашего удобства уже импортированы библиотеки pandas (как pd) и numpy (как np). Импортировать другие библиотеки запрещено.*\n",
    "\n",
    "*Для решения этой задачи вам необходимо знать, как работают методы [DataFrame.astype](https://pandas.pydata.org/pandas-docs/stable/reference/api/pandas.DataFrame.astype.html) и [Series.cat.rename_categories](https://pandas.pydata.org/pandas-docs/stable/reference/api/pandas.Series.cat.rename_categories.html).*"
   ]
  }
 ],
 "metadata": {
  "language_info": {
   "name": "python"
  },
  "orig_nbformat": 4
 },
 "nbformat": 4,
 "nbformat_minor": 2
}
