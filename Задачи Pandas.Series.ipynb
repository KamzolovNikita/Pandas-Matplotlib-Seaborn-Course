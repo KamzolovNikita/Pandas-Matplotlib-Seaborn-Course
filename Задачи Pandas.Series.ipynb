{
 "cells": [
  {
   "attachments": {},
   "cell_type": "markdown",
   "id": "31921116",
   "metadata": {},
   "source": [
    "# Создание и ограничение размера Series"
   ]
  },
  {
   "attachments": {},
   "cell_type": "markdown",
   "id": "65d2e4e8",
   "metadata": {},
   "source": [
    "### Условие"
   ]
  },
  {
   "attachments": {},
   "cell_type": "markdown",
   "id": "f41b7c77",
   "metadata": {},
   "source": [
    "Необходимо написать тело функции solve, которая формирует структуру данных Series на основе переданных данных и возвращает эту структуру, выполнив над ней необходимые преобразования.\n",
    "\n",
    "Функция solve принимает на вход:\n",
    "1. data - данные столбца (список значений целочисленного типа)\n",
    "2. index - индексы (спиcок значений строчного типа)\n",
    "\n",
    "Гарантируется, что data и index имеют одинаковые размеры.\n",
    "\n",
    "Необходимые преобразования:\n",
    "1. Назовите сформированную структуру данных Series \"my_series\"\n",
    "2. Назовите столбец с индексами \"my_index\"\n",
    "3. Ограничьте максимальный размер Series до 10 первых строк (подсказка: необходимо воспользоваться методом типа данных Series)\n",
    "\n",
    "*Для вашего удобства уже импортированы библиотеки pandas (как pd) и numpy (как np). Импортировать другие библиотеки запрещено.*\n",
    "\n",
    "*Для решения этой задачи вам необходимо знать [параметры создания Series](https://pandas.pydata.org/pandas-docs/stable/reference/api/pandas.Series.html), и [методы ограничения размера Series](https://pandas.pydata.org/pandas-docs/stable/reference/api/pandas.Series.head.html).*\n",
    "\n"
   ]
  },
  {
   "attachments": {},
   "cell_type": "markdown",
   "id": "435cb63c",
   "metadata": {},
   "source": [
    "# Использование reindex"
   ]
  },
  {
   "attachments": {},
   "cell_type": "markdown",
   "id": "1f49f8b5",
   "metadata": {},
   "source": [
    "### Условие"
   ]
  },
  {
   "attachments": {},
   "cell_type": "markdown",
   "id": "5625a8e0",
   "metadata": {},
   "source": [
    "Необходимо написать тело функции solve, которая принимает на вход структуру данных Series и массив индексов, заменяет индекс исходной структуры на переданный в функцию, сопоставляя незнакомым индексам значение \"Unknown\", и возвращает итоговую структуру.\n",
    "\n",
    "*Для вашего удобства уже импортированы библиотеки pandas (как pd) и numpy (как np). Импортировать другие библиотеки запрещено.*\n",
    "\n",
    "*Для решения этой задачи вам необходимо знать, как использовать [метод reindex](https://pandas.pydata.org/pandas-docs/stable/reference/api/pandas.Series.reindex.html).*"
   ]
  },
  {
   "attachments": {},
   "cell_type": "markdown",
   "id": "3a8c2fc0",
   "metadata": {},
   "source": [
    "# Метод Series.describe"
   ]
  },
  {
   "attachments": {},
   "cell_type": "markdown",
   "id": "6369e50e",
   "metadata": {},
   "source": [
    "### Условие"
   ]
  },
  {
   "attachments": {},
   "cell_type": "markdown",
   "id": "62205770",
   "metadata": {},
   "source": [
    "Какие из перечисленных описательных статистик считаются при вызове метода Series.describe по умолчанию\n",
    "\n",
    "*Для ответа на этот вопрос вам необходимо знать, как работает [метод describe](https://pandas.pydata.org/pandas-docs/stable/reference/api/pandas.Series.describe.html).*"
   ]
  },
  {
   "attachments": {},
   "cell_type": "markdown",
   "id": "9c503577",
   "metadata": {},
   "source": [
    "Минимальное значение Series\n",
    "\n",
    "Максимальное значение Series\n",
    "\n",
    "50-ая процентиль\n",
    "\n",
    "99-ая процентиль\n",
    "\n",
    "Дисперсия значений\n",
    "\n",
    "Среднеквадратическое отклонение значений"
   ]
  },
  {
   "attachments": {},
   "cell_type": "markdown",
   "id": "a926a1c5",
   "metadata": {},
   "source": [
    "# Основные методы Series"
   ]
  },
  {
   "attachments": {},
   "cell_type": "markdown",
   "id": "f6c368db",
   "metadata": {},
   "source": [
    "### Условие"
   ]
  },
  {
   "attachments": {},
   "cell_type": "markdown",
   "id": "e3df8bb5",
   "metadata": {},
   "source": [
    "Необходимо написать тело функции solve, которая принимает на вход структуру данных Series, достает из этой структуры значения и формирует из этих значений строку вида: \"значение1/значение2/значение3\"\n",
    "\n",
    "Из каких значений требуется сформировать строку:\n",
    "1. Размах значений Series.\n",
    "2. Наиболее часто встречающиеся значения. При совпадении частот необходимо выбрать то значение, которое в списке Series встречается раньше остальных. Подсказка: метод Series, который считает частоты учитывает их порядок в исходной структуре, поэтому при использовании верного метода, дополнительных шагов делать не придется.\n",
    "3. Сумма абсолютных значений исходной Series.\n",
    "\n",
    "*Для решения этой задачи вам необходимо знать как работают методы: [Series.max](https://pandas.pydata.org/pandas-docs/stable/reference/api/pandas.Series.max.html), [Series.min](https://pandas.pydata.org/pandas-docs/stable/reference/api/pandas.Series.min.html), [Series.value_counts](https://pandas.pydata.org/pandas-docs/stable/reference/api/pandas.Series.value_counts.html), [Series.abs](https://pandas.pydata.org/pandas-docs/stable/reference/api/pandas.Series.abs.html), [Series.sum](https://pandas.pydata.org/pandas-docs/stable/reference/api/pandas.Series.sum.html) и свойство [Series.index](https://pandas.pydata.org/pandas-docs/stable/reference/api/pandas.Series.index.html).*\n"
   ]
  },
  {
   "attachments": {},
   "cell_type": "markdown",
   "id": "bc4c4ab8",
   "metadata": {},
   "source": [
    "# Основные методы Series 2"
   ]
  },
  {
   "attachments": {},
   "cell_type": "markdown",
   "id": "6dba4c86",
   "metadata": {},
   "source": [
    "### Условие"
   ]
  },
  {
   "attachments": {},
   "cell_type": "markdown",
   "id": "bc4ee7dc",
   "metadata": {},
   "source": [
    "Соотнесите название метода и для чего он применяется\n",
    "\n",
    "*Для решения этой задачи вам понадобятся знания о методах [Series.unique](https://pandas.pydata.org/pandas-docs/stable/reference/api/pandas.Series.unique.html), [Series.nunique](https://pandas.pydata.org/pandas-docs/stable/reference/api/pandas.Series.nunique.html), [Series.idxmax](https://pandas.pydata.org/pandas-docs/stable/reference/api/pandas.Series.idxmax.html), [Series.astype](https://pandas.pydata.org/pandas-docs/stable/reference/api/pandas.Series.astype.html), [Series.to_numpy](https://pandas.pydata.org/pandas-docs/stable/reference/api/pandas.Series.to_numpy.html), [Series.prod](https://pandas.pydata.org/pandas-docs/stable/reference/api/pandas.Series.prod.html).*"
   ]
  },
  {
   "attachments": {},
   "cell_type": "markdown",
   "id": "58c2746f",
   "metadata": {},
   "source": [
    "### Решение"
   ]
  },
  {
   "attachments": {},
   "cell_type": "markdown",
   "id": "7d51d530",
   "metadata": {},
   "source": [
    "unique\n",
    "\n",
    "nunique\n",
    "\n",
    "idxmax\n",
    "\n",
    "astype\n",
    "\n",
    "to_numpy\n",
    "\n",
    "prod\n",
    "\n",
    "Достать все уникальные значения\n",
    "\n",
    "Преобразование Series в NumPy массив\n",
    "\n",
    "Изменение типа данных Series\n",
    "\n",
    "Произведение элементов выборки\n",
    "\n",
    "Количество уникальных значений\n",
    "\n",
    "Индекс максимального значения"
   ]
  },
  {
   "attachments": {},
   "cell_type": "markdown",
   "id": "63e974fa",
   "metadata": {},
   "source": [
    "# Метод Series.loc"
   ]
  },
  {
   "attachments": {},
   "cell_type": "markdown",
   "id": "8f0b9c31",
   "metadata": {},
   "source": [
    "### Условие"
   ]
  },
  {
   "attachments": {
    "image.png": {
     "image/png": "[encoded data removed]"
    }
   },
   "cell_type": "markdown",
   "id": "d34429a3",
   "metadata": {},
   "source": [
    "Стуктура данных Series содержит следующие данные:\n",
    "\n",
    "![image.png](attachment:image.png)\n",
    "\n",
    "Что будет записано в переменную answer после исполнения данной строки кода:\n",
    "\n",
    "*answer = series.loc['b']*\n",
    "\n",
    "*Для решения этой задачи вам необходимо знать, как работает метод [Series.loc](https://pandas.pydata.org/pandas-docs/stable/reference/api/pandas.Series.loc.html)*\n",
    "\n"
   ]
  },
  {
   "attachments": {},
   "cell_type": "markdown",
   "id": "3e2f458f",
   "metadata": {},
   "source": [
    "### Решение"
   ]
  },
  {
   "attachments": {},
   "cell_type": "markdown",
   "id": "1d9d6d66",
   "metadata": {},
   "source": [
    "Значение value, соответствующее первому встречному элементу с индексом 'b' (value = 1)\n",
    "\n",
    "Значение value, соответствующее последнему встречному элементу с индексом 'b' (value = 9)\n",
    "\n",
    "Структура данных Series со всеми парами индекс-значение, где значение индекса = 'b' (value = 0, 3, 9)"
   ]
  },
  {
   "attachments": {},
   "cell_type": "markdown",
   "id": "ed646900",
   "metadata": {},
   "source": [
    "# Оператор Series[]"
   ]
  },
  {
   "attachments": {},
   "cell_type": "markdown",
   "id": "8ba727f3",
   "metadata": {},
   "source": [
    "### Условие"
   ]
  },
  {
   "attachments": {},
   "cell_type": "markdown",
   "id": "298ff3f1",
   "metadata": {},
   "source": [
    "Необходимо написать тело функции solve, которая принимает на вход структуру данных Series и индекс и возвращает эту структуру, присвоив всем значениям по индексу, переданному в функцию, значение 1.\n",
    "\n",
    "**Гарантируется, что переданное значение индекса присутствует в исходной структуре Series.**\n",
    "\n",
    "*Для вашего удобства уже импортированы библиотеки pandas (как pd) и numpy (как np). Импортировать другие библиотеки запрещено.*\n",
    "\n",
    "*Для решения этой задачи вам необходимо знать, как работает метод [Series.loc](https://pandas.pydata.org/pandas-docs/stable/reference/api/pandas.Series.loc.html#) или оператор [Series[]](https://pandas.pydata.org/pandas-docs/stable/user_guide/indexing.html)*\n",
    "\n"
   ]
  },
  {
   "attachments": {},
   "cell_type": "markdown",
   "id": "7447b85e",
   "metadata": {},
   "source": [
    "# Комбинирование методов Series.loc и Series.iloc"
   ]
  },
  {
   "attachments": {},
   "cell_type": "markdown",
   "id": "c0288b95",
   "metadata": {},
   "source": [
    "### Решение"
   ]
  },
  {
   "attachments": {},
   "cell_type": "markdown",
   "id": "404d2310",
   "metadata": {},
   "source": [
    "Необходимо написать тело функции solve, которая принимает на вход структуру данных Series, достает из нее число по определенному набору правил и передает это число в качестве возвращаемого значения.\n",
    "\n",
    "Набор правил, по которому определяется число, которое необходимо вернуть:\n",
    "1. Достать из исходной структуры данных только те строки, у которых индекс = 'a'\n",
    "2. Достать из полученной на прошлом шаге структуры число, которое располагается на позиции 2 (расчет с 0).\n",
    "\n",
    "*Гарантируется, что входные данные будут построены так, чтобы после преобразований исходной структуры была возможность получить итоговое число.*\n",
    "\n",
    "*Для вашего удобства уже импортированы библиотеки pandas (как pd) и numpy (как np). Импортировать другие библиотеки запрещено.*\n",
    "\n",
    "*Для решения этой задачи вам необходимо знать, как работает методы [Series.loc](https://pandas.pydata.org/pandas-docs/stable/reference/api/pandas.Series.loc.html#) и [Series.iloc](https://pandas.pydata.org/pandas-docs/stable/reference/api/pandas.Series.iloc.html#)*\n"
   ]
  },
  {
   "attachments": {},
   "cell_type": "markdown",
   "id": "97304bd9",
   "metadata": {},
   "source": [
    "# Работа с несколькими индексами с помощью Series.loc и Series.iloc"
   ]
  },
  {
   "attachments": {},
   "cell_type": "markdown",
   "id": "eaecc19b",
   "metadata": {},
   "source": [
    "### Условие"
   ]
  },
  {
   "attachments": {},
   "cell_type": "markdown",
   "id": "a5c7df51",
   "metadata": {},
   "source": [
    "Необходимо написать тело функции solve, которая принимает на вход структуру данных Series, выполняет над ней преобразования и возвращает полученную структуру.\n",
    "\n",
    "Необходимые преобразования:\n",
    "1. Из исходной структуры достаем все данные, индекс которых равен 'a', 'c', 'd' или 'e'.\n",
    "2. Присвойте элементам с индексом 'a' значение 9.\n",
    "2. Из полученной на прошлом шаге структуры достаем данные, которые располагаются на позициях 2, 5, 7 (нумерация с 0).\n",
    "\n",
    "**Гарантируется, что входные данные будут построены так, чтобы после преобразований исходной структуры была возможность получить итоговую структуру.**\n",
    "\n",
    "*Для вашего удобства уже импортированы библиотеки pandas (как pd) и numpy (как np). Импортировать другие библиотеки запрещено.*\n",
    "\n",
    "*Желательно каждый шаг преобразования выполнять одним методом.*\n",
    "\n",
    "*Для решения этой задачи вам необходимо знать, как работают методы [Series.loc](https://pandas.pydata.org/pandas-docs/stable/reference/api/pandas.Series.loc.html#), [Series.iloc](https://pandas.pydata.org/pandas-docs/stable/reference/api/pandas.Series.iloc.html) и оператор [Series[]](https://pandas.pydata.org/pandas-docs/stable/user_guide/indexing.html)*"
   ]
  },
  {
   "attachments": {},
   "cell_type": "markdown",
   "id": "33ed7a4c",
   "metadata": {},
   "source": [
    "# Фильтрация Series по числу"
   ]
  },
  {
   "attachments": {},
   "cell_type": "markdown",
   "id": "9dd08bb3",
   "metadata": {},
   "source": [
    "### Условие"
   ]
  },
  {
   "attachments": {},
   "cell_type": "markdown",
   "id": "98911321",
   "metadata": {},
   "source": [
    "Необходимо написать тело функции solve, которая принимает на вход структуру данных Series и число и возвращает эту структуру, выполнив фильтрацию значений так, чтобы все значения итоговой структуры были меньше переданного в функцию числа.\n",
    "\n",
    "*Для вашего удобства уже импортированы библиотеки pandas (как pd) и numpy (как np). Импортировать другие библиотеки запрещено.*\n",
    "\n",
    "*Для решения этой задачи вам необходимо знать, как работает [фильтрация данных Series](https://pandas.pydata.org/docs/user_guide/indexing.html#boolean-indexing).*"
   ]
  },
  {
   "attachments": {},
   "cell_type": "markdown",
   "id": "2d118657",
   "metadata": {},
   "source": [
    "# Фильтрация по среднему значению Series"
   ]
  },
  {
   "attachments": {},
   "cell_type": "markdown",
   "id": "2823f4c0",
   "metadata": {},
   "source": [
    "### Условие"
   ]
  },
  {
   "attachments": {},
   "cell_type": "markdown",
   "id": "33913052",
   "metadata": {},
   "source": [
    "Необходимо написать тело функции solve, которая принимает на вход структуру данных Series и возвращает эту структуру, выполнив фильтрацию значений.\n",
    "\n",
    "Условие фильтрации - в итоговом варианте структуры должны присутствовать только элементы значения, которых меньше или равны среднему значению столбца значений исходной структуры данных.\n",
    "\n",
    "*Для вашего удобства уже импортированы библиотеки pandas (как pd) и numpy (как np). Импортировать другие библиотеки запрещено.*\n",
    "\n",
    "*Для решения этой задачи вам необходимо знать, как работает [фильтрация данных в Series](https://pandas.pydata.org/docs/user_guide/indexing.html#boolean-indexing) и метод [Series.mean](https://pandas.pydata.org/pandas-docs/stable/reference/api/pandas.Series.mean.html)*\n"
   ]
  },
  {
   "attachments": {},
   "cell_type": "markdown",
   "id": "075c5393",
   "metadata": {},
   "source": [
    "# Математические операции над Series"
   ]
  },
  {
   "attachments": {},
   "cell_type": "markdown",
   "id": "04fc7391",
   "metadata": {},
   "source": [
    "### Условие"
   ]
  },
  {
   "attachments": {},
   "cell_type": "markdown",
   "id": "8c0fbf9c",
   "metadata": {},
   "source": [
    "Необходимо написать тело функции solve, которая принимает на вход две структуры данных Series, выполняет над ними необходимые преобразования и объединяет их, а затем возвращает полученную структуру.\n",
    "\n",
    "**Гарантируется, что обе структуры имеют одинаковые размеры.**\n",
    "\n",
    "Необходимые преобразования:\n",
    "1. Все значения первого Series необходимо умножить на 3.\n",
    "2. Ко всем значения второй Series прибавить 10.\n",
    "3. Записать в итоговую структуру результат деления первой структуры на вторую после их преобразования.\n",
    "\n",
    "*Для вашего удобства уже импортированы библиотеки pandas (как pd) и numpy (как np). Импортировать другие библиотеки запрещено.*\n",
    "\n",
    "*Для решения этой задачи вам необходимо знать, как работают [математические операторы и методы в Series](https://pandas.pydata.org/pandas-docs/stable/reference/series.html#binary-operator-functions)*"
   ]
  },
  {
   "attachments": {},
   "cell_type": "markdown",
   "id": "16ba0ced",
   "metadata": {},
   "source": [
    "# Сортировка значений и индексов Series"
   ]
  },
  {
   "attachments": {},
   "cell_type": "markdown",
   "id": "2ad1539b",
   "metadata": {},
   "source": [
    "### Условие"
   ]
  },
  {
   "attachments": {},
   "cell_type": "markdown",
   "id": "f88997ce",
   "metadata": {},
   "source": [
    "Необходимо написать тело функции solve, которая принимает на вход структуру данных Series, выполняет сортировку данных и возвращает, полученный результат.\n",
    "\n",
    "Описание сортировки:\n",
    "1. Сначала исходная структура сортирует по значениям в порядке убывания.\n",
    "2. Полученная, на первом шаге структура, сортируется по индексам в порядке возрастания.\n",
    "\n",
    "*Сортировка должна быть \"inplace\", то есть не должно порождаться дополнительных структур данных, помимо исходной.*\n",
    "\n",
    "*Подсказка: обратите внимание, что на втором этапе необходимо изменить метод сортировки, чтобы не сломать порядок элементов, полученный на первом этапе сортировки.*\n",
    "\n",
    "*Для вашего удобства уже импортированы библиотеки pandas (как pd) и numpy (как np). Импортировать другие библиотеки запрещено.*\n",
    "\n",
    "*Для решения этой задачи вам необходимо знать, как работают методы [Series.sort_values](https://pandas.pydata.org/pandas-docs/stable/reference/api/pandas.Series.sort_values.html) и [Series.sort_index](https://pandas.pydata.org/pandas-docs/stable/reference/api/pandas.Series.sort_index.html), а также про [стабильные методы сортировки](https://numpy.org/doc/stable/reference/generated/numpy.sort.html#numpy.sort).*"
   ]
  },
  {
   "attachments": {},
   "cell_type": "markdown",
   "id": "d98540a6",
   "metadata": {},
   "source": [
    "# Сортировка с использованием параметра key"
   ]
  },
  {
   "attachments": {},
   "cell_type": "markdown",
   "id": "98382f5e",
   "metadata": {},
   "source": [
    "### Условие"
   ]
  },
  {
   "attachments": {},
   "cell_type": "markdown",
   "id": "a48eb4a4",
   "metadata": {},
   "source": [
    "Необходимо написать тело функции solve, которая принимает на вход структуру данных Series и выполняет сортировку данных по модулю в **убывающем** порядке.\n",
    "\n",
    "**Гарантируется, что все значения в Series имеют числовой тип данных.**\n",
    "\n",
    "Значения внутри Series не должны быть изменены, должна быть выполнена только сортировка. Используйте параметр метода sort_values - key\n",
    "\n",
    "*Для вашего удобства уже импортированы библиотеки pandas (как pd) и numpy (как np). Импортировать другие библиотеки запрещено.*\n",
    "\n",
    "*Для решения этой задачи вам необходимо знать, как работает метод [Series.sort_values](https://pandas.pydata.org/pandas-docs/stable/reference/api/pandas.Series.sort_values.html).*"
   ]
  },
  {
   "attachments": {},
   "cell_type": "markdown",
   "id": "aca97ca8",
   "metadata": {},
   "source": [
    "# Метод Series.map"
   ]
  },
  {
   "attachments": {},
   "cell_type": "markdown",
   "id": "91a33201",
   "metadata": {},
   "source": [
    "### Условие"
   ]
  },
  {
   "attachments": {
    "image.png": {
     "image/png": "[encoded data removed]"
    }
   },
   "cell_type": "markdown",
   "id": "6b0c0dc9",
   "metadata": {},
   "source": [
    "Имеется следующая структура данных Series:\n",
    "\n",
    "![image.png](attachment:image.png)\n",
    "\n",
    "Выберите верный итоговый вариант структуры после применения следующего метода: *series.map({'orange': 'апельсин', 'banana': 'банан'})*.\n",
    "\n",
    "*Для решения этой задачи вам необходимо знать, как работает метод [Series.map](https://pandas.pydata.org/pandas-docs/stable/reference/api/pandas.Series.map.html).*"
   ]
  },
  {
   "attachments": {},
   "cell_type": "markdown",
   "id": "e729a2ef",
   "metadata": {},
   "source": [
    "### Решение"
   ]
  },
  {
   "attachments": {
    "image-2.png": {
     "image/png": "[encoded data removed]"
    },
    "image-3.png": {
     "image/png": "[encoded data removed]"
    },
    "image.png": {
     "image/png": "[encoded data removed]"
    }
   },
   "cell_type": "markdown",
   "id": "878889f8",
   "metadata": {},
   "source": [
    "![image.png](attachment:image.png)\n",
    "\n",
    "![image.png](attachment:image-2.png)\n",
    "\n",
    "![image.png](attachment:image-3.png)"
   ]
  },
  {
   "attachments": {},
   "cell_type": "markdown",
   "id": "25e67d02",
   "metadata": {},
   "source": [
    "# Метод Series.apply"
   ]
  },
  {
   "attachments": {},
   "cell_type": "markdown",
   "id": "c3f8cdc1",
   "metadata": {},
   "source": [
    "### Условие"
   ]
  },
  {
   "attachments": {},
   "cell_type": "markdown",
   "id": "2fc5ad5b",
   "metadata": {},
   "source": [
    "Необходимо написать тело функции solve, которая принимает на вход структуру данных Series, возводит все значения исходной структуры данных в 3-ю степень с помощью метода apply и возвращает полученную структуру.\n",
    "\n",
    "**В метод apply необходимо передать только функцию _apply, которую вы также должны реализовать (она будет проверяться)**\n",
    "\n",
    "*Для вашего удобства уже импортированы библиотеки pandas (как pd) и numpy (как np). Импортировать другие библиотеки запрещено.*\n",
    "\n",
    "*Для решения этой задачи вам необходимо знать, как работает метод [Series.apply](https://pandas.pydata.org/pandas-docs/stable/reference/api/pandas.Series.apply.html)*"
   ]
  },
  {
   "attachments": {},
   "cell_type": "markdown",
   "id": "b1540091",
   "metadata": {},
   "source": [
    "# Методы Series.apply и Series.map (усложненное)"
   ]
  },
  {
   "attachments": {},
   "cell_type": "markdown",
   "id": "60cc7d1c",
   "metadata": {},
   "source": [
    "### Условие"
   ]
  },
  {
   "attachments": {},
   "cell_type": "markdown",
   "id": "e51e5e57",
   "metadata": {},
   "source": [
    "Необходимо написать тело функции solve, которая принимает на вход структуру данных Series и целые числа a и b (a > b), выполняет над ней преобразования и возвращает полученную структуру.\n",
    "\n",
    "Необходимые преобразования:\n",
    "1. С помощью метода apply все значения больше a поменять на строку \"A lot of\", значения больше b, но меньше либо равные a на строку \"Enough\", значения меньше либо равные b на \"Not enough\". **В метод apply необходимо передать только функцию _apply и аргументы a и b. Функцию _apply также необходимо реализовать (она будет проверяться).**\n",
    "2. С помощью метода map преобразовать все значения так, чтобы в конец строки добавилась строка \" money.\" **(обратите внимание на пробел в начале данной строки)**.\n",
    "\n",
    "*Также обратите внимание, что аргументы в apply нужно передавать в следующем порядке: (a, b) (передаются кортежем в переменную values, а затем достаются по индексам values[0] = a, values[1] = b)*\n",
    "\n",
    "*Для вашего удобства уже импортированы библиотеки pandas (как pd) и numpy (как np). Импортировать другие библиотеки запрещено.*\n",
    "\n",
    "*Для решения этой задачи вам необходимо знать, как работаю методы [Series.map](https://pandas.pydata.org/pandas-docs/stable/reference/api/pandas.Series.map.html) и [Series.apply.](https://pandas.pydata.org/pandas-docs/stable/reference/api/pandas.Series.apply.html)*"
   ]
  }
 ],
 "metadata": {
  "kernelspec": {
   "display_name": "Python 3 (ipykernel)",
   "language": "python",
   "name": "python3"
  },
  "language_info": {
   "codemirror_mode": {
    "name": "ipython",
    "version": 3
   },
   "file_extension": ".py",
   "mimetype": "text/x-python",
   "name": "python",
   "nbconvert_exporter": "python",
   "pygments_lexer": "ipython3",
   "version": "3.10.6"
  }
 },
 "nbformat": 4,
 "nbformat_minor": 5
}
